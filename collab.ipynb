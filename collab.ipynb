{
  "cells": [
    {
      "cell_type": "code",
      "execution_count": null,
      "id": "8f3a4bdb-b5cd-4499-a062-338410116cc3",
      "metadata": {
        "colab": {
          "base_uri": "https://localhost:8080/"
        },
        "id": "8f3a4bdb-b5cd-4499-a062-338410116cc3",
        "outputId": "628f23e3-32cd-4cc9-f04e-9d006dd88707"
      },
      "outputs": [
        {
          "output_type": "stream",
          "name": "stdout",
          "text": [
            "Looking in indexes: https://pypi.org/simple, https://us-python.pkg.dev/colab-wheels/public/simple/\n",
            "Requirement already satisfied: creme in /usr/local/lib/python3.7/dist-packages (0.6.1)\n",
            "Requirement already satisfied: numpy>=1.18.1 in /usr/local/lib/python3.7/dist-packages (from creme) (1.21.6)\n",
            "Requirement already satisfied: scipy>=1.4.1 in /usr/local/lib/python3.7/dist-packages (from creme) (1.7.3)\n",
            "Requirement already satisfied: pandas>=1.0.1 in /usr/local/lib/python3.7/dist-packages (from creme) (1.3.5)\n",
            "Requirement already satisfied: mmh3==2.5.1 in /usr/local/lib/python3.7/dist-packages (from creme) (2.5.1)\n",
            "Requirement already satisfied: python-dateutil>=2.7.3 in /usr/local/lib/python3.7/dist-packages (from pandas>=1.0.1->creme) (2.8.2)\n",
            "Requirement already satisfied: pytz>=2017.3 in /usr/local/lib/python3.7/dist-packages (from pandas>=1.0.1->creme) (2022.2.1)\n",
            "Requirement already satisfied: six>=1.5 in /usr/local/lib/python3.7/dist-packages (from python-dateutil>=2.7.3->pandas>=1.0.1->creme) (1.15.0)\n"
          ]
        }
      ],
      "source": [
        "!pip install creme"
      ]
    },
    {
      "cell_type": "code",
      "source": [],
      "metadata": {
        "id": "HO3NY13-QRBj"
      },
      "id": "HO3NY13-QRBj",
      "execution_count": 3,
      "outputs": []
    },
    {
      "cell_type": "code",
      "source": [],
      "metadata": {
        "id": "XZzR6d3lQrKx"
      },
      "id": "XZzR6d3lQrKx",
      "execution_count": null,
      "outputs": []
    },
    {
      "cell_type": "code",
      "source": [],
      "metadata": {
        "id": "7LIAk60sQrew"
      },
      "id": "7LIAk60sQrew",
      "execution_count": null,
      "outputs": []
    },
    {
      "cell_type": "code",
      "execution_count": 4,
      "id": "625d12ba-684a-4f5a-ab89-3505a533c0da",
      "metadata": {
        "id": "625d12ba-684a-4f5a-ab89-3505a533c0da"
      },
      "outputs": [],
      "source": []
    },
    {
      "cell_type": "code",
      "execution_count": null,
      "id": "b4b9bb6c-504c-4fef-af09-1031daacb9f4",
      "metadata": {
        "id": "b4b9bb6c-504c-4fef-af09-1031daacb9f4"
      },
      "outputs": [],
      "source": []
    },
    {
      "cell_type": "code",
      "execution_count": null,
      "id": "c52e45a1-445a-4a15-8b54-c2ff81546c8f",
      "metadata": {
        "id": "c52e45a1-445a-4a15-8b54-c2ff81546c8f"
      },
      "outputs": [],
      "source": []
    },
    {
      "cell_type": "code",
      "execution_count": null,
      "id": "1b46cfd9-bcd7-480f-be21-752c7c4cda50",
      "metadata": {
        "id": "1b46cfd9-bcd7-480f-be21-752c7c4cda50"
      },
      "outputs": [],
      "source": [
        "df.head()"
      ]
    },
    {
      "cell_type": "code",
      "execution_count": null,
      "id": "22fbcc6f-f792-42b8-b90b-7b67f70aa623",
      "metadata": {
        "id": "22fbcc6f-f792-42b8-b90b-7b67f70aa623",
        "outputId": "684db838-89f7-4609-bc4f-03138d171d16"
      },
      "outputs": [
        {
          "data": {
            "text/plain": [
              "(1781, 7)"
            ]
          },
          "execution_count": 4,
          "metadata": {},
          "output_type": "execute_result"
        }
      ],
      "source": [
        "df.shape"
      ]
    },
    {
      "cell_type": "code",
      "execution_count": null,
      "id": "b83a46dd-b399-4c3d-ac4b-a4d5eb56e5ff",
      "metadata": {
        "id": "b83a46dd-b399-4c3d-ac4b-a4d5eb56e5ff",
        "outputId": "17efcbaa-a907-4170-c072-53a9c9af3098"
      },
      "outputs": [
        {
          "data": {
            "text/plain": [
              "REMOTE_APP_PACKETS         int64\n",
              "SOURCEAPPBYTES             int64\n",
              "DISTREMOTETCPPORT          int64\n",
              "TCPCONVERSATIONEXCHANGE    int64\n",
              "REMOTEIPS                  int64\n",
              "REMOTEAPPBYTES             int64\n",
              "Type                       int64\n",
              "dtype: object"
            ]
          },
          "execution_count": 5,
          "metadata": {},
          "output_type": "execute_result"
        }
      ],
      "source": [
        "df.dtypes"
      ]
    },
    {
      "cell_type": "code",
      "execution_count": null,
      "id": "4d1708cb-ea65-46c5-a3d6-ba595f9ccdc6",
      "metadata": {
        "id": "4d1708cb-ea65-46c5-a3d6-ba595f9ccdc6",
        "outputId": "44534b7b-c03b-4ecc-e1ea-d98182d29283"
      },
      "outputs": [
        {
          "data": {
            "text/plain": [
              "REMOTE_APP_PACKETS         0\n",
              "SOURCEAPPBYTES             0\n",
              "DISTREMOTETCPPORT          0\n",
              "TCPCONVERSATIONEXCHANGE    0\n",
              "REMOTEIPS                  0\n",
              "REMOTEAPPBYTES             0\n",
              "Type                       0\n",
              "dtype: int64"
            ]
          },
          "execution_count": 6,
          "metadata": {},
          "output_type": "execute_result"
        }
      ],
      "source": [
        "df.isnull().sum()"
      ]
    },
    {
      "cell_type": "code",
      "execution_count": null,
      "id": "8cf8d3dd-6297-4066-b36b-bfcc9be2e843",
      "metadata": {
        "id": "8cf8d3dd-6297-4066-b36b-bfcc9be2e843",
        "outputId": "b07edbb8-e64b-45ca-f364-f43423a8c7cd"
      },
      "outputs": [
        {
          "name": "stdout",
          "output_type": "stream",
          "text": [
            "REMOTE_APP_PACKETS 116\n",
            "SOURCEAPPBYTES 885\n",
            "DISTREMOTETCPPORT 66\n",
            "TCPCONVERSATIONEXCHANGE 103\n",
            "REMOTEIPS 18\n",
            "REMOTEAPPBYTES 822\n",
            "Type 2\n"
          ]
        }
      ],
      "source": [
        "for i in df.columns:\n",
        "    print(i,df[i].nunique())"
      ]
    },
    {
      "cell_type": "code",
      "execution_count": null,
      "id": "8f9cb845-cf83-45d6-bfbc-63ae5bb04152",
      "metadata": {
        "id": "8f9cb845-cf83-45d6-bfbc-63ae5bb04152",
        "outputId": "9583493c-a774-47ce-cb6e-ec72503c284c"
      },
      "outputs": [
        {
          "data": {
            "text/plain": [
              "0    1565\n",
              "1     216\n",
              "Name: Type, dtype: int64"
            ]
          },
          "execution_count": 8,
          "metadata": {},
          "output_type": "execute_result"
        }
      ],
      "source": [
        "df.Type.value_counts()"
      ]
    },
    {
      "cell_type": "code",
      "execution_count": null,
      "id": "b9f993f9-8efe-47a8-b7f7-f46441e555d7",
      "metadata": {
        "id": "b9f993f9-8efe-47a8-b7f7-f46441e555d7",
        "outputId": "33cdabfc-82b0-42a3-f950-b6121face48c"
      },
      "outputs": [
        {
          "name": "stderr",
          "output_type": "stream",
          "text": [
            "C:\\DBDA\\desktop\\Python\\python\\lib\\site-packages\\seaborn\\_decorators.py:36: FutureWarning: Pass the following variable as a keyword arg: x. From version 0.12, the only valid positional argument will be `data`, and passing other arguments without an explicit keyword will result in an error or misinterpretation.\n",
            "  warnings.warn(\n"
          ]
        },
        {
          "data": {
            "text/plain": [
              "Text(0.5, 1.0, 'Distrubution \\n (0:safe domain || 1: Malicious domain)')"
            ]
          },
          "execution_count": 9,
          "metadata": {},
          "output_type": "execute_result"
        },
        {
          "data": {
            "image/png": "[encoded data removed]",
            "text/plain": [
              "<Figure size 432x288 with 1 Axes>"
            ]
          },
          "metadata": {
            "needs_background": "light"
          },
          "output_type": "display_data"
        }
      ],
      "source": [
        "colors = [\"#0101DF\", \"#DF0101\"]\n",
        "\n",
        "sns.countplot('Type', data=df, palette=colors)\n",
        "plt.title('Distrubution \\n (0:safe domain || 1: Malicious domain)', fontsize=14)"
      ]
    },
    {
      "cell_type": "code",
      "execution_count": null,
      "id": "2fd77fea-f1c1-4955-b520-6f7b13c6cb4d",
      "metadata": {
        "id": "2fd77fea-f1c1-4955-b520-6f7b13c6cb4d"
      },
      "outputs": [],
      "source": [
        "malicious_domain = df.loc[df['Type'] == 1]\n",
        "\n",
        "safe_domain = df.loc[df['Type'] == 0][:300]"
      ]
    },
    {
      "cell_type": "code",
      "execution_count": null,
      "id": "d07a32a8-925a-4643-9520-be90c3ef3118",
      "metadata": {
        "id": "d07a32a8-925a-4643-9520-be90c3ef3118",
        "outputId": "e69605bb-b3de-4b93-86d7-594d856dab82"
      },
      "outputs": [
        {
          "data": {
            "text/plain": [
              "216"
            ]
          },
          "execution_count": 11,
          "metadata": {},
          "output_type": "execute_result"
        }
      ],
      "source": [
        "malicious_domain.Type.count()"
      ]
    },
    {
      "cell_type": "code",
      "execution_count": null,
      "id": "160546db-cfe0-438f-9f80-51462f418d03",
      "metadata": {
        "id": "160546db-cfe0-438f-9f80-51462f418d03",
        "outputId": "d87a724b-e443-4c66-f7b9-8cade8dec485"
      },
      "outputs": [
        {
          "data": {
            "text/plain": [
              "300"
            ]
          },
          "execution_count": 12,
          "metadata": {},
          "output_type": "execute_result"
        }
      ],
      "source": [
        "safe_domain.Type.count()"
      ]
    },
    {
      "cell_type": "code",
      "execution_count": null,
      "id": "80838322-1117-4975-a999-9a230f141b4f",
      "metadata": {
        "id": "80838322-1117-4975-a999-9a230f141b4f"
      },
      "outputs": [],
      "source": [
        "Normlize_dis = pd.concat([malicious_domain,safe_domain])"
      ]
    },
    {
      "cell_type": "code",
      "execution_count": null,
      "id": "0c9c80a3-9771-4736-8bec-024b518f79dc",
      "metadata": {
        "id": "0c9c80a3-9771-4736-8bec-024b518f79dc"
      },
      "outputs": [],
      "source": [
        "df2 = Normlize_dis.sample(frac=1, random_state=42)"
      ]
    },
    {
      "cell_type": "code",
      "execution_count": null,
      "id": "25fa3271-68fb-4d54-97cd-2b532e8f24d2",
      "metadata": {
        "id": "25fa3271-68fb-4d54-97cd-2b532e8f24d2",
        "outputId": "e03df3c6-5507-484e-a373-e1a090bcf128"
      },
      "outputs": [
        {
          "data": {
            "text/html": [
              "<div>\n",
              "<style scoped>\n",
              "    .dataframe tbody tr th:only-of-type {\n",
              "        vertical-align: middle;\n",
              "    }\n",
              "\n",
              "    .dataframe tbody tr th {\n",
              "        vertical-align: top;\n",
              "    }\n",
              "\n",
              "    .dataframe thead th {\n",
              "        text-align: right;\n",
              "    }\n",
              "</style>\n",
              "<table border=\"1\" class=\"dataframe\">\n",
              "  <thead>\n",
              "    <tr style=\"text-align: right;\">\n",
              "      <th></th>\n",
              "      <th>REMOTE_APP_PACKETS</th>\n",
              "      <th>SOURCEAPPBYTES</th>\n",
              "      <th>DISTREMOTETCPPORT</th>\n",
              "      <th>TCPCONVERSATIONEXCHANGE</th>\n",
              "      <th>REMOTEIPS</th>\n",
              "      <th>REMOTEAPPBYTES</th>\n",
              "      <th>Type</th>\n",
              "    </tr>\n",
              "  </thead>\n",
              "  <tbody>\n",
              "    <tr>\n",
              "      <th>106</th>\n",
              "      <td>0</td>\n",
              "      <td>0</td>\n",
              "      <td>0</td>\n",
              "      <td>0</td>\n",
              "      <td>0</td>\n",
              "      <td>0</td>\n",
              "      <td>0</td>\n",
              "    </tr>\n",
              "    <tr>\n",
              "      <th>336</th>\n",
              "      <td>13</td>\n",
              "      <td>4860</td>\n",
              "      <td>0</td>\n",
              "      <td>12</td>\n",
              "      <td>4</td>\n",
              "      <td>1631</td>\n",
              "      <td>0</td>\n",
              "    </tr>\n",
              "    <tr>\n",
              "      <th>259</th>\n",
              "      <td>5</td>\n",
              "      <td>306</td>\n",
              "      <td>3</td>\n",
              "      <td>3</td>\n",
              "      <td>1</td>\n",
              "      <td>366</td>\n",
              "      <td>0</td>\n",
              "    </tr>\n",
              "    <tr>\n",
              "      <th>1619</th>\n",
              "      <td>2</td>\n",
              "      <td>124</td>\n",
              "      <td>0</td>\n",
              "      <td>0</td>\n",
              "      <td>0</td>\n",
              "      <td>0</td>\n",
              "      <td>1</td>\n",
              "    </tr>\n",
              "    <tr>\n",
              "      <th>338</th>\n",
              "      <td>21</td>\n",
              "      <td>14373</td>\n",
              "      <td>0</td>\n",
              "      <td>17</td>\n",
              "      <td>4</td>\n",
              "      <td>2615</td>\n",
              "      <td>0</td>\n",
              "    </tr>\n",
              "    <tr>\n",
              "      <th>1341</th>\n",
              "      <td>12</td>\n",
              "      <td>1489</td>\n",
              "      <td>0</td>\n",
              "      <td>10</td>\n",
              "      <td>4</td>\n",
              "      <td>1205</td>\n",
              "      <td>1</td>\n",
              "    </tr>\n",
              "    <tr>\n",
              "      <th>1758</th>\n",
              "      <td>2</td>\n",
              "      <td>124</td>\n",
              "      <td>0</td>\n",
              "      <td>0</td>\n",
              "      <td>0</td>\n",
              "      <td>0</td>\n",
              "      <td>1</td>\n",
              "    </tr>\n",
              "    <tr>\n",
              "      <th>353</th>\n",
              "      <td>0</td>\n",
              "      <td>0</td>\n",
              "      <td>0</td>\n",
              "      <td>0</td>\n",
              "      <td>0</td>\n",
              "      <td>0</td>\n",
              "      <td>0</td>\n",
              "    </tr>\n",
              "    <tr>\n",
              "      <th>129</th>\n",
              "      <td>0</td>\n",
              "      <td>0</td>\n",
              "      <td>0</td>\n",
              "      <td>0</td>\n",
              "      <td>0</td>\n",
              "      <td>0</td>\n",
              "      <td>0</td>\n",
              "    </tr>\n",
              "    <tr>\n",
              "      <th>37</th>\n",
              "      <td>8</td>\n",
              "      <td>1138</td>\n",
              "      <td>0</td>\n",
              "      <td>4</td>\n",
              "      <td>1</td>\n",
              "      <td>823</td>\n",
              "      <td>0</td>\n",
              "    </tr>\n",
              "  </tbody>\n",
              "</table>\n",
              "</div>"
            ],
            "text/plain": [
              "      REMOTE_APP_PACKETS  SOURCEAPPBYTES  DISTREMOTETCPPORT  \\\n",
              "106                    0               0                  0   \n",
              "336                   13            4860                  0   \n",
              "259                    5             306                  3   \n",
              "1619                   2             124                  0   \n",
              "338                   21           14373                  0   \n",
              "1341                  12            1489                  0   \n",
              "1758                   2             124                  0   \n",
              "353                    0               0                  0   \n",
              "129                    0               0                  0   \n",
              "37                     8            1138                  0   \n",
              "\n",
              "      TCPCONVERSATIONEXCHANGE  REMOTEIPS  REMOTEAPPBYTES  Type  \n",
              "106                         0          0               0     0  \n",
              "336                        12          4            1631     0  \n",
              "259                         3          1             366     0  \n",
              "1619                        0          0               0     1  \n",
              "338                        17          4            2615     0  \n",
              "1341                       10          4            1205     1  \n",
              "1758                        0          0               0     1  \n",
              "353                         0          0               0     0  \n",
              "129                         0          0               0     0  \n",
              "37                          4          1             823     0  "
            ]
          },
          "execution_count": 66,
          "metadata": {},
          "output_type": "execute_result"
        }
      ],
      "source": [
        "df2.head(10)"
      ]
    },
    {
      "cell_type": "code",
      "execution_count": null,
      "id": "3956b942-422f-4291-8b7a-5433822f89be",
      "metadata": {
        "id": "3956b942-422f-4291-8b7a-5433822f89be",
        "outputId": "d1e41876-20e2-49e8-ca60-3bfabd9b115a"
      },
      "outputs": [
        {
          "name": "stderr",
          "output_type": "stream",
          "text": [
            "C:\\DBDA\\desktop\\Python\\python\\lib\\site-packages\\seaborn\\_decorators.py:36: FutureWarning: Pass the following variable as a keyword arg: x. From version 0.12, the only valid positional argument will be `data`, and passing other arguments without an explicit keyword will result in an error or misinterpretation.\n",
            "  warnings.warn(\n"
          ]
        },
        {
          "data": {
            "text/plain": [
              "Text(0.5, 1.0, 'Distrubution \\n (0:safe domain || 1: Malicious domain)')"
            ]
          },
          "execution_count": 16,
          "metadata": {},
          "output_type": "execute_result"
        },
        {
          "data": {
            "image/png": "[encoded data removed]",
            "text/plain": [
              "<Figure size 432x288 with 1 Axes>"
            ]
          },
          "metadata": {
            "needs_background": "light"
          },
          "output_type": "display_data"
        }
      ],
      "source": [
        "colors = [\"#0101DF\", \"#DF0101\"]\n",
        "\n",
        "sns.countplot('Type', data=df2, palette=colors)\n",
        "plt.title('Distrubution \\n (0:safe domain || 1: Malicious domain)', fontsize=14)"
      ]
    },
    {
      "cell_type": "code",
      "execution_count": null,
      "id": "56c75d14-ca5e-44b6-b592-68d6f0a93354",
      "metadata": {
        "id": "56c75d14-ca5e-44b6-b592-68d6f0a93354"
      },
      "outputs": [],
      "source": [
        "from sklearn.model_selection import train_test_split\n",
        "from sklearn.ensemble import RandomForestClassifier\n",
        "from sklearn.metrics import classification_report, accuracy_score, confusion_matrix,precision_score\n",
        "from sklearn.model_selection import cross_val_predict\n",
        "from sklearn.preprocessing import OneHotEncoder\n",
        "\n",
        "\n",
        "from sklearn.ensemble import GradientBoostingClassifier\n",
        "\n",
        "from sklearn.model_selection import GridSearchCV\n",
        "\n",
        "from utils import predict_and_evaluate\n",
        "from sklearn.model_selection import cross_val_score,KFold"
      ]
    },
    {
      "cell_type": "code",
      "execution_count": null,
      "id": "30c1ff4d-04f9-4a72-93d7-d61cadd4d541",
      "metadata": {
        "id": "30c1ff4d-04f9-4a72-93d7-d61cadd4d541"
      },
      "outputs": [],
      "source": [
        "# Separate target variable\n",
        "X = df2.drop(['Type'], axis=1)\n",
        "y = df2['Type']"
      ]
    },
    {
      "cell_type": "code",
      "execution_count": null,
      "id": "aaa59ddc-a5e2-4932-8387-be7c97d00638",
      "metadata": {
        "id": "aaa59ddc-a5e2-4932-8387-be7c97d00638",
        "outputId": "1f2094cd-1241-4aa8-d2a5-51d3b812544c"
      },
      "outputs": [
        {
          "data": {
            "text/plain": [
              "dtype('int64')"
            ]
          },
          "execution_count": 21,
          "metadata": {},
          "output_type": "execute_result"
        }
      ],
      "source": [
        "df2[\"Type\"].dtype"
      ]
    },
    {
      "cell_type": "code",
      "execution_count": null,
      "id": "cec412f1-460d-4252-9c16-ca0bf191e17a",
      "metadata": {
        "id": "cec412f1-460d-4252-9c16-ca0bf191e17a"
      },
      "outputs": [],
      "source": [
        "# Split the data into train and test samples\n",
        "# 80% samples for test and 20% for test sample\n",
        "X_train, X_test, y_train, y_test = train_test_split(X, y, test_size = 0.2, random_state = 123)"
      ]
    },
    {
      "cell_type": "code",
      "execution_count": null,
      "id": "7d152df6-90fd-4267-9b27-ea3eec8dde1a",
      "metadata": {
        "id": "7d152df6-90fd-4267-9b27-ea3eec8dde1a",
        "outputId": "f3581f16-a53f-42b1-a871-7e44135514e3"
      },
      "outputs": [
        {
          "data": {
            "text/html": [
              "<div>\n",
              "<style scoped>\n",
              "    .dataframe tbody tr th:only-of-type {\n",
              "        vertical-align: middle;\n",
              "    }\n",
              "\n",
              "    .dataframe tbody tr th {\n",
              "        vertical-align: top;\n",
              "    }\n",
              "\n",
              "    .dataframe thead th {\n",
              "        text-align: right;\n",
              "    }\n",
              "</style>\n",
              "<table border=\"1\" class=\"dataframe\">\n",
              "  <thead>\n",
              "    <tr style=\"text-align: right;\">\n",
              "      <th></th>\n",
              "      <th>REMOTE_APP_PACKETS</th>\n",
              "      <th>SOURCEAPPBYTES</th>\n",
              "      <th>DISTREMOTETCPPORT</th>\n",
              "      <th>TCPCONVERSATIONEXCHANGE</th>\n",
              "      <th>REMOTEIPS</th>\n",
              "      <th>REMOTEAPPBYTES</th>\n",
              "    </tr>\n",
              "  </thead>\n",
              "  <tbody>\n",
              "    <tr>\n",
              "      <th>506</th>\n",
              "      <td>25</td>\n",
              "      <td>3786</td>\n",
              "      <td>1</td>\n",
              "      <td>21</td>\n",
              "      <td>5</td>\n",
              "      <td>2983</td>\n",
              "    </tr>\n",
              "    <tr>\n",
              "      <th>1521</th>\n",
              "      <td>5</td>\n",
              "      <td>416</td>\n",
              "      <td>1</td>\n",
              "      <td>1</td>\n",
              "      <td>1</td>\n",
              "      <td>90</td>\n",
              "    </tr>\n",
              "    <tr>\n",
              "      <th>294</th>\n",
              "      <td>5</td>\n",
              "      <td>306</td>\n",
              "      <td>6</td>\n",
              "      <td>8</td>\n",
              "      <td>6</td>\n",
              "      <td>696</td>\n",
              "    </tr>\n",
              "    <tr>\n",
              "      <th>165</th>\n",
              "      <td>44</td>\n",
              "      <td>23985</td>\n",
              "      <td>47</td>\n",
              "      <td>76</td>\n",
              "      <td>12</td>\n",
              "      <td>9891</td>\n",
              "    </tr>\n",
              "    <tr>\n",
              "      <th>324</th>\n",
              "      <td>19</td>\n",
              "      <td>1294</td>\n",
              "      <td>10</td>\n",
              "      <td>14</td>\n",
              "      <td>6</td>\n",
              "      <td>1246</td>\n",
              "    </tr>\n",
              "  </tbody>\n",
              "</table>\n",
              "</div>"
            ],
            "text/plain": [
              "      REMOTE_APP_PACKETS  SOURCEAPPBYTES  DISTREMOTETCPPORT  \\\n",
              "506                   25            3786                  1   \n",
              "1521                   5             416                  1   \n",
              "294                    5             306                  6   \n",
              "165                   44           23985                 47   \n",
              "324                   19            1294                 10   \n",
              "\n",
              "      TCPCONVERSATIONEXCHANGE  REMOTEIPS  REMOTEAPPBYTES  \n",
              "506                        21          5            2983  \n",
              "1521                        1          1              90  \n",
              "294                         8          6             696  \n",
              "165                        76         12            9891  \n",
              "324                        14          6            1246  "
            ]
          },
          "execution_count": 59,
          "metadata": {},
          "output_type": "execute_result"
        }
      ],
      "source": [
        "X_test.head()"
      ]
    },
    {
      "cell_type": "code",
      "execution_count": null,
      "id": "72474013-a427-4406-82be-cc2853506161",
      "metadata": {
        "id": "72474013-a427-4406-82be-cc2853506161"
      },
      "outputs": [],
      "source": [
        "rf = RandomForestClassifier()"
      ]
    },
    {
      "cell_type": "code",
      "execution_count": null,
      "id": "1271742f-2fa2-414a-9e77-bf62d8328131",
      "metadata": {
        "id": "1271742f-2fa2-414a-9e77-bf62d8328131",
        "outputId": "ad92d16f-b963-492e-fb82-5706441d3985"
      },
      "outputs": [
        {
          "data": {
            "text/html": [
              "<style>#sk-container-id-1 {color: black;background-color: white;}#sk-container-id-1 pre{padding: 0;}#sk-container-id-1 div.sk-toggleable {background-color: white;}#sk-container-id-1 label.sk-toggleable__label {cursor: pointer;display: block;width: 100%;margin-bottom: 0;padding: 0.3em;box-sizing: border-box;text-align: center;}#sk-container-id-1 label.sk-toggleable__label-arrow:before {content: \"▸\";float: left;margin-right: 0.25em;color: #696969;}#sk-container-id-1 label.sk-toggleable__label-arrow:hover:before {color: black;}#sk-container-id-1 div.sk-estimator:hover label.sk-toggleable__label-arrow:before {color: black;}#sk-container-id-1 div.sk-toggleable__content {max-height: 0;max-width: 0;overflow: hidden;text-align: left;background-color: #f0f8ff;}#sk-container-id-1 div.sk-toggleable__content pre {margin: 0.2em;color: black;border-radius: 0.25em;background-color: #f0f8ff;}#sk-container-id-1 input.sk-toggleable__control:checked~div.sk-toggleable__content {max-height: 200px;max-width: 100%;overflow: auto;}#sk-container-id-1 input.sk-toggleable__control:checked~label.sk-toggleable__label-arrow:before {content: \"▾\";}#sk-container-id-1 div.sk-estimator input.sk-toggleable__control:checked~label.sk-toggleable__label {background-color: #d4ebff;}#sk-container-id-1 div.sk-label input.sk-toggleable__control:checked~label.sk-toggleable__label {background-color: #d4ebff;}#sk-container-id-1 input.sk-hidden--visually {border: 0;clip: rect(1px 1px 1px 1px);clip: rect(1px, 1px, 1px, 1px);height: 1px;margin: -1px;overflow: hidden;padding: 0;position: absolute;width: 1px;}#sk-container-id-1 div.sk-estimator {font-family: monospace;background-color: #f0f8ff;border: 1px dotted black;border-radius: 0.25em;box-sizing: border-box;margin-bottom: 0.5em;}#sk-container-id-1 div.sk-estimator:hover {background-color: #d4ebff;}#sk-container-id-1 div.sk-parallel-item::after {content: \"\";width: 100%;border-bottom: 1px solid gray;flex-grow: 1;}#sk-container-id-1 div.sk-label:hover label.sk-toggleable__label {background-color: #d4ebff;}#sk-container-id-1 div.sk-serial::before {content: \"\";position: absolute;border-left: 1px solid gray;box-sizing: border-box;top: 0;bottom: 0;left: 50%;z-index: 0;}#sk-container-id-1 div.sk-serial {display: flex;flex-direction: column;align-items: center;background-color: white;padding-right: 0.2em;padding-left: 0.2em;position: relative;}#sk-container-id-1 div.sk-item {position: relative;z-index: 1;}#sk-container-id-1 div.sk-parallel {display: flex;align-items: stretch;justify-content: center;background-color: white;position: relative;}#sk-container-id-1 div.sk-item::before, #sk-container-id-1 div.sk-parallel-item::before {content: \"\";position: absolute;border-left: 1px solid gray;box-sizing: border-box;top: 0;bottom: 0;left: 50%;z-index: -1;}#sk-container-id-1 div.sk-parallel-item {display: flex;flex-direction: column;z-index: 1;position: relative;background-color: white;}#sk-container-id-1 div.sk-parallel-item:first-child::after {align-self: flex-end;width: 50%;}#sk-container-id-1 div.sk-parallel-item:last-child::after {align-self: flex-start;width: 50%;}#sk-container-id-1 div.sk-parallel-item:only-child::after {width: 0;}#sk-container-id-1 div.sk-dashed-wrapped {border: 1px dashed gray;margin: 0 0.4em 0.5em 0.4em;box-sizing: border-box;padding-bottom: 0.4em;background-color: white;}#sk-container-id-1 div.sk-label label {font-family: monospace;font-weight: bold;display: inline-block;line-height: 1.2em;}#sk-container-id-1 div.sk-label-container {text-align: center;}#sk-container-id-1 div.sk-container {/* jupyter's `normalize.less` sets `[hidden] { display: none; }` but bootstrap.min.css set `[hidden] { display: none !important; }` so we also need the `!important` here to be able to override the default hidden behavior on the sphinx rendered scikit-learn.org. See: https://github.com/scikit-learn/scikit-learn/issues/21755 */display: inline-block !important;position: relative;}#sk-container-id-1 div.sk-text-repr-fallback {display: none;}</style><div id=\"sk-container-id-1\" class=\"sk-top-container\"><div class=\"sk-text-repr-fallback\"><pre>RandomForestClassifier()</pre><b>In a Jupyter environment, please rerun this cell to show the HTML representation or trust the notebook. <br />On GitHub, the HTML representation is unable to render, please try loading this page with nbviewer.org.</b></div><div class=\"sk-container\" hidden><div class=\"sk-item\"><div class=\"sk-estimator sk-toggleable\"><input class=\"sk-toggleable__control sk-hidden--visually\" id=\"sk-estimator-id-1\" type=\"checkbox\" checked><label for=\"sk-estimator-id-1\" class=\"sk-toggleable__label sk-toggleable__label-arrow\">RandomForestClassifier</label><div class=\"sk-toggleable__content\"><pre>RandomForestClassifier()</pre></div></div></div></div></div>"
            ],
            "text/plain": [
              "RandomForestClassifier()"
            ]
          },
          "execution_count": 24,
          "metadata": {},
          "output_type": "execute_result"
        }
      ],
      "source": [
        "rf.fit(X_train,y_train)"
      ]
    },
    {
      "cell_type": "code",
      "execution_count": null,
      "id": "7da9f27b-c351-4fa5-bce0-75b10a0e7713",
      "metadata": {
        "id": "7da9f27b-c351-4fa5-bce0-75b10a0e7713"
      },
      "outputs": [],
      "source": [
        "rf_pred = rf.predict(X_test)"
      ]
    },
    {
      "cell_type": "code",
      "execution_count": null,
      "id": "3329e34f-adb1-4027-beb5-81797bb27469",
      "metadata": {
        "id": "3329e34f-adb1-4027-beb5-81797bb27469",
        "outputId": "d7f1bf0c-fe1a-406f-b9b5-92678a24bfb7"
      },
      "outputs": [
        {
          "data": {
            "text/plain": [
              "array([1, 1, 0, 0, 0, 1, 1, 0, 1, 1, 0, 1, 0, 0, 1, 1, 1, 1, 0, 0, 0, 1,\n",
              "       0, 0, 1, 0, 1, 0, 0, 1, 1, 0, 0, 1, 0, 0, 0, 1, 0, 0, 1, 0, 1, 1,\n",
              "       1, 1, 1, 0, 0, 1, 1, 0, 0, 0, 0, 0, 1, 0, 1, 1, 1, 1, 0, 1, 1, 1,\n",
              "       1, 0, 0, 0, 0, 1, 1, 1, 1, 1, 1, 1, 1, 1, 0, 0, 1, 0, 0, 0, 0, 1,\n",
              "       0, 1, 1, 0, 0, 1, 1, 0, 1, 0, 1, 0, 1, 0, 1, 0], dtype=int64)"
            ]
          },
          "execution_count": 26,
          "metadata": {},
          "output_type": "execute_result"
        }
      ],
      "source": [
        "rf_pred"
      ]
    },
    {
      "cell_type": "code",
      "execution_count": null,
      "id": "a33247de-ecdb-4b52-b550-830db8f53bac",
      "metadata": {
        "id": "a33247de-ecdb-4b52-b550-830db8f53bac",
        "outputId": "153cfe48-f168-460f-c4e0-c757756bb5f8"
      },
      "outputs": [
        {
          "name": "stdout",
          "output_type": "stream",
          "text": [
            "Accuracy score:  88.46153846153845\n"
          ]
        }
      ],
      "source": [
        "# Accuracy score\n",
        "print('Accuracy score: ',accuracy_score(y_test, rf_pred)*100)"
      ]
    },
    {
      "cell_type": "code",
      "execution_count": null,
      "id": "cb9ca497-f871-4f03-9182-e6490cd1c5ae",
      "metadata": {
        "id": "cb9ca497-f871-4f03-9182-e6490cd1c5ae",
        "outputId": "a847e513-bf65-4ecc-8dbd-396498dedc53"
      },
      "outputs": [
        {
          "name": "stdout",
          "output_type": "stream",
          "text": [
            "Confusion matrix\n",
            " [[46  8]\n",
            " [ 4 46]]\n"
          ]
        }
      ],
      "source": [
        "# Confusion matrix\n",
        "cm = confusion_matrix(y_test, rf_pred)\n",
        "print('Confusion matrix\\n',cm)"
      ]
    },
    {
      "cell_type": "code",
      "execution_count": null,
      "id": "1eb8c787-184d-4f13-9de1-0d9430e1009e",
      "metadata": {
        "id": "1eb8c787-184d-4f13-9de1-0d9430e1009e",
        "outputId": "bc1fe303-22a1-497e-888e-e4be57721a42"
      },
      "outputs": [
        {
          "name": "stdout",
          "output_type": "stream",
          "text": [
            "              precision    recall  f1-score   support\n",
            "\n",
            "           0       0.92      0.85      0.88        54\n",
            "           1       0.85      0.92      0.88        50\n",
            "\n",
            "    accuracy                           0.88       104\n",
            "   macro avg       0.89      0.89      0.88       104\n",
            "weighted avg       0.89      0.88      0.88       104\n",
            "\n"
          ]
        }
      ],
      "source": [
        "# Classification report\n",
        "print(classification_report(y_test,rf_pred))"
      ]
    },
    {
      "cell_type": "code",
      "execution_count": null,
      "id": "73f9a2f5-f23c-4048-bc15-845675051919",
      "metadata": {
        "id": "73f9a2f5-f23c-4048-bc15-845675051919",
        "outputId": "4d4ce318-0423-478c-ef42-c0d444254071"
      },
      "outputs": [
        {
          "data": {
            "text/plain": [
              "0.8859259259259259"
            ]
          },
          "execution_count": 30,
          "metadata": {},
          "output_type": "execute_result"
        }
      ],
      "source": [
        "# AUC \n",
        "from sklearn.metrics import roc_auc_score\n",
        "roc_auc_score(y_test,rf_pred)"
      ]
    },
    {
      "cell_type": "markdown",
      "id": "874a09b9-164e-4019-8807-da28bf939386",
      "metadata": {
        "id": "874a09b9-164e-4019-8807-da28bf939386"
      },
      "source": [
        "# Cross Validation\n",
        "## Using k fold"
      ]
    },
    {
      "cell_type": "code",
      "execution_count": null,
      "id": "f30faac8-a77e-4a82-9a46-7ca6c75ba441",
      "metadata": {
        "id": "f30faac8-a77e-4a82-9a46-7ca6c75ba441"
      },
      "outputs": [],
      "source": [
        "Kfold_val = KFold(5)"
      ]
    },
    {
      "cell_type": "code",
      "execution_count": null,
      "id": "bdf38b5f-80c4-4dd2-85b5-78ecf3f8b0ab",
      "metadata": {
        "id": "bdf38b5f-80c4-4dd2-85b5-78ecf3f8b0ab",
        "outputId": "bce38bcd-8e82-48f6-ce95-6e1fcca444bf"
      },
      "outputs": [
        {
          "name": "stdout",
          "output_type": "stream",
          "text": [
            "[0.85576923 0.91262136 0.86407767 0.91262136 0.94174757]\n"
          ]
        },
        {
          "data": {
            "text/plain": [
              "0.897367438386856"
            ]
          },
          "execution_count": 32,
          "metadata": {},
          "output_type": "execute_result"
        }
      ],
      "source": [
        "Kfold_val = KFold(5)\n",
        "score_rf = cross_val_score(rf, X, y, cv= Kfold_val, scoring='accuracy')\n",
        "print(score_rf)\n",
        "np.mean(score_rf)"
      ]
    },
    {
      "cell_type": "code",
      "execution_count": null,
      "id": "a6f3a0de-70bc-4f80-be48-5caafa02f4d5",
      "metadata": {
        "id": "a6f3a0de-70bc-4f80-be48-5caafa02f4d5",
        "outputId": "6139aa32-9ee9-4d3f-e395-162a750ac13c"
      },
      "outputs": [
        {
          "data": {
            "text/plain": [
              "array([0.17588229, 0.25269229, 0.27837343, 0.08290842, 0.0720226 ,\n",
              "       0.13812098])"
            ]
          },
          "execution_count": 33,
          "metadata": {},
          "output_type": "execute_result"
        }
      ],
      "source": [
        "# Feature importance of Random forest\n",
        "rf.feature_importances_"
      ]
    },
    {
      "cell_type": "code",
      "execution_count": null,
      "id": "e09077c8-4d43-43c2-a3ad-a5e39f49e1ba",
      "metadata": {
        "id": "e09077c8-4d43-43c2-a3ad-a5e39f49e1ba"
      },
      "outputs": [],
      "source": [
        "# Get Feature importance of Random forest\n",
        "fi = pd.Series(rf.feature_importances_, index=X_train.columns)"
      ]
    },
    {
      "cell_type": "code",
      "execution_count": null,
      "id": "ceafd701-1905-4602-b20a-246c483023a5",
      "metadata": {
        "id": "ceafd701-1905-4602-b20a-246c483023a5"
      },
      "outputs": [],
      "source": [
        "# Sorting the result in descending order for Random forest\n",
        "#feature_importances.sort_values(ascending=False, inplace=True)\n",
        "fi.sort_values(ascending=False, inplace=True)"
      ]
    },
    {
      "cell_type": "code",
      "execution_count": null,
      "id": "c4335248-ad64-4f4c-97a5-6cffc2acae93",
      "metadata": {
        "id": "c4335248-ad64-4f4c-97a5-6cffc2acae93",
        "outputId": "8fed35d4-9bba-4b3d-cf1c-e03ad7fd2535"
      },
      "outputs": [
        {
          "data": {
            "image/png": "[encoded data removed]",
            "text/plain": [
              "<Figure size 800x600 with 1 Axes>"
            ]
          },
          "metadata": {
            "needs_background": "light"
          },
          "output_type": "display_data"
        }
      ],
      "source": [
        "# Plot the graph of feature importances showing the score\n",
        "fig = plt.figure(figsize=(8,6), dpi=100)\n",
        "fi.plot.bar()\n",
        "plt.title('Feature importances')\n",
        "plt.xlabel('Features')\n",
        "plt.ylabel('Mean decrease in impurity')\n",
        "plt.show()"
      ]
    },
    {
      "cell_type": "markdown",
      "id": "0487b70d-0deb-4e70-a7bd-0b8616b52526",
      "metadata": {
        "id": "0487b70d-0deb-4e70-a7bd-0b8616b52526"
      },
      "source": [
        "# 2. Gradient Boosting Model"
      ]
    },
    {
      "cell_type": "code",
      "execution_count": null,
      "id": "0c5f5fcc-3976-4138-bf79-147f1aa81bdd",
      "metadata": {
        "id": "0c5f5fcc-3976-4138-bf79-147f1aa81bdd"
      },
      "outputs": [],
      "source": [
        "gbm = GradientBoostingClassifier()"
      ]
    },
    {
      "cell_type": "code",
      "execution_count": null,
      "id": "e33f91f1-30f6-42de-a802-f28284bbc023",
      "metadata": {
        "id": "e33f91f1-30f6-42de-a802-f28284bbc023",
        "outputId": "07549786-063d-4d71-ee75-8a28d19bc2b2"
      },
      "outputs": [
        {
          "data": {
            "text/html": [
              "<style>#sk-container-id-2 {color: black;background-color: white;}#sk-container-id-2 pre{padding: 0;}#sk-container-id-2 div.sk-toggleable {background-color: white;}#sk-container-id-2 label.sk-toggleable__label {cursor: pointer;display: block;width: 100%;margin-bottom: 0;padding: 0.3em;box-sizing: border-box;text-align: center;}#sk-container-id-2 label.sk-toggleable__label-arrow:before {content: \"▸\";float: left;margin-right: 0.25em;color: #696969;}#sk-container-id-2 label.sk-toggleable__label-arrow:hover:before {color: black;}#sk-container-id-2 div.sk-estimator:hover label.sk-toggleable__label-arrow:before {color: black;}#sk-container-id-2 div.sk-toggleable__content {max-height: 0;max-width: 0;overflow: hidden;text-align: left;background-color: #f0f8ff;}#sk-container-id-2 div.sk-toggleable__content pre {margin: 0.2em;color: black;border-radius: 0.25em;background-color: #f0f8ff;}#sk-container-id-2 input.sk-toggleable__control:checked~div.sk-toggleable__content {max-height: 200px;max-width: 100%;overflow: auto;}#sk-container-id-2 input.sk-toggleable__control:checked~label.sk-toggleable__label-arrow:before {content: \"▾\";}#sk-container-id-2 div.sk-estimator input.sk-toggleable__control:checked~label.sk-toggleable__label {background-color: #d4ebff;}#sk-container-id-2 div.sk-label input.sk-toggleable__control:checked~label.sk-toggleable__label {background-color: #d4ebff;}#sk-container-id-2 input.sk-hidden--visually {border: 0;clip: rect(1px 1px 1px 1px);clip: rect(1px, 1px, 1px, 1px);height: 1px;margin: -1px;overflow: hidden;padding: 0;position: absolute;width: 1px;}#sk-container-id-2 div.sk-estimator {font-family: monospace;background-color: #f0f8ff;border: 1px dotted black;border-radius: 0.25em;box-sizing: border-box;margin-bottom: 0.5em;}#sk-container-id-2 div.sk-estimator:hover {background-color: #d4ebff;}#sk-container-id-2 div.sk-parallel-item::after {content: \"\";width: 100%;border-bottom: 1px solid gray;flex-grow: 1;}#sk-container-id-2 div.sk-label:hover label.sk-toggleable__label {background-color: #d4ebff;}#sk-container-id-2 div.sk-serial::before {content: \"\";position: absolute;border-left: 1px solid gray;box-sizing: border-box;top: 0;bottom: 0;left: 50%;z-index: 0;}#sk-container-id-2 div.sk-serial {display: flex;flex-direction: column;align-items: center;background-color: white;padding-right: 0.2em;padding-left: 0.2em;position: relative;}#sk-container-id-2 div.sk-item {position: relative;z-index: 1;}#sk-container-id-2 div.sk-parallel {display: flex;align-items: stretch;justify-content: center;background-color: white;position: relative;}#sk-container-id-2 div.sk-item::before, #sk-container-id-2 div.sk-parallel-item::before {content: \"\";position: absolute;border-left: 1px solid gray;box-sizing: border-box;top: 0;bottom: 0;left: 50%;z-index: -1;}#sk-container-id-2 div.sk-parallel-item {display: flex;flex-direction: column;z-index: 1;position: relative;background-color: white;}#sk-container-id-2 div.sk-parallel-item:first-child::after {align-self: flex-end;width: 50%;}#sk-container-id-2 div.sk-parallel-item:last-child::after {align-self: flex-start;width: 50%;}#sk-container-id-2 div.sk-parallel-item:only-child::after {width: 0;}#sk-container-id-2 div.sk-dashed-wrapped {border: 1px dashed gray;margin: 0 0.4em 0.5em 0.4em;box-sizing: border-box;padding-bottom: 0.4em;background-color: white;}#sk-container-id-2 div.sk-label label {font-family: monospace;font-weight: bold;display: inline-block;line-height: 1.2em;}#sk-container-id-2 div.sk-label-container {text-align: center;}#sk-container-id-2 div.sk-container {/* jupyter's `normalize.less` sets `[hidden] { display: none; }` but bootstrap.min.css set `[hidden] { display: none !important; }` so we also need the `!important` here to be able to override the default hidden behavior on the sphinx rendered scikit-learn.org. See: https://github.com/scikit-learn/scikit-learn/issues/21755 */display: inline-block !important;position: relative;}#sk-container-id-2 div.sk-text-repr-fallback {display: none;}</style><div id=\"sk-container-id-2\" class=\"sk-top-container\"><div class=\"sk-text-repr-fallback\"><pre>GradientBoostingClassifier()</pre><b>In a Jupyter environment, please rerun this cell to show the HTML representation or trust the notebook. <br />On GitHub, the HTML representation is unable to render, please try loading this page with nbviewer.org.</b></div><div class=\"sk-container\" hidden><div class=\"sk-item\"><div class=\"sk-estimator sk-toggleable\"><input class=\"sk-toggleable__control sk-hidden--visually\" id=\"sk-estimator-id-2\" type=\"checkbox\" checked><label for=\"sk-estimator-id-2\" class=\"sk-toggleable__label sk-toggleable__label-arrow\">GradientBoostingClassifier</label><div class=\"sk-toggleable__content\"><pre>GradientBoostingClassifier()</pre></div></div></div></div></div>"
            ],
            "text/plain": [
              "GradientBoostingClassifier()"
            ]
          },
          "execution_count": 38,
          "metadata": {},
          "output_type": "execute_result"
        }
      ],
      "source": [
        "gbm.fit(X_train,y_train)"
      ]
    },
    {
      "cell_type": "markdown",
      "id": "11b39c2d-982c-4b62-a094-e3c3cdfa195f",
      "metadata": {
        "id": "11b39c2d-982c-4b62-a094-e3c3cdfa195f"
      },
      "source": [
        "# 2.2 Evaluating the model"
      ]
    },
    {
      "cell_type": "code",
      "execution_count": null,
      "id": "923a3fcd-990b-4ee5-ab01-dc8f07f3c1df",
      "metadata": {
        "id": "923a3fcd-990b-4ee5-ab01-dc8f07f3c1df",
        "outputId": "ce785950-8699-4bf2-e90e-a010dcbbec18"
      },
      "outputs": [
        {
          "data": {
            "text/plain": [
              "array([1, 1, 0, 0, 0, 1, 1, 0, 1, 1, 0, 1, 0, 0, 1, 1, 1, 1, 0, 0],\n",
              "      dtype=int64)"
            ]
          },
          "execution_count": 39,
          "metadata": {},
          "output_type": "execute_result"
        }
      ],
      "source": [
        "# Predict the Test set results\n",
        "gbm_pred = gbm.predict(X_test)\n",
        "gbm_pred[:20]"
      ]
    },
    {
      "cell_type": "code",
      "execution_count": null,
      "id": "7b5d5150-cd1b-477f-91eb-d86da4818aab",
      "metadata": {
        "id": "7b5d5150-cd1b-477f-91eb-d86da4818aab",
        "outputId": "43075223-7d3a-4e46-c416-8158c7ce3f3a"
      },
      "outputs": [
        {
          "name": "stdout",
          "output_type": "stream",
          "text": [
            "Accuracy : \n",
            " 88.46153846153845\n"
          ]
        }
      ],
      "source": [
        "print('Accuracy : \\n', accuracy_score(y_test, gbm_pred)*100)"
      ]
    },
    {
      "cell_type": "code",
      "execution_count": null,
      "id": "1ab9e7e6-e400-4185-bd1a-953217e35023",
      "metadata": {
        "id": "1ab9e7e6-e400-4185-bd1a-953217e35023",
        "outputId": "3cf16d04-3f7f-4f3b-a0e2-1415703797d1"
      },
      "outputs": [
        {
          "name": "stdout",
          "output_type": "stream",
          "text": [
            "Precision: \n",
            " 0.8653846153846154\n"
          ]
        }
      ],
      "source": [
        "# Precision (P)\n",
        "print( \"Precision: \\n\", precision_score(y_test,gbm_pred))"
      ]
    },
    {
      "cell_type": "code",
      "execution_count": null,
      "id": "fc09cfe5-1d6d-4c15-8267-3edf2f356539",
      "metadata": {
        "id": "fc09cfe5-1d6d-4c15-8267-3edf2f356539",
        "outputId": "5857eda5-31fd-41cd-e17a-1be11e1638a3"
      },
      "outputs": [
        {
          "name": "stdout",
          "output_type": "stream",
          "text": [
            "              precision    recall  f1-score   support\n",
            "\n",
            "           0       0.90      0.87      0.89        54\n",
            "           1       0.87      0.90      0.88        50\n",
            "\n",
            "    accuracy                           0.88       104\n",
            "   macro avg       0.88      0.89      0.88       104\n",
            "weighted avg       0.89      0.88      0.88       104\n",
            "\n"
          ]
        }
      ],
      "source": [
        "# Classification report\n",
        "print(classification_report(y_test,gbm_pred))"
      ]
    },
    {
      "cell_type": "markdown",
      "id": "77eed139-784d-48ec-8a17-aeff42ce04ca",
      "metadata": {
        "id": "77eed139-784d-48ec-8a17-aeff42ce04ca"
      },
      "source": [
        "# 3. Xtreme Gradient Boosting"
      ]
    },
    {
      "cell_type": "code",
      "execution_count": null,
      "id": "075705d6-d4ea-404e-8e6d-7cc977ea1f7a",
      "metadata": {
        "id": "075705d6-d4ea-404e-8e6d-7cc977ea1f7a"
      },
      "outputs": [],
      "source": [
        "from xgboost import XGBClassifier"
      ]
    },
    {
      "cell_type": "markdown",
      "id": "5855d23e-1503-4cba-87e9-cd94309e85ff",
      "metadata": {
        "id": "5855d23e-1503-4cba-87e9-cd94309e85ff"
      },
      "source": [
        "# 3.1 Model Training"
      ]
    },
    {
      "cell_type": "code",
      "execution_count": null,
      "id": "4854e2d1-1c40-4cf7-8cc2-2d5a2d2e5619",
      "metadata": {
        "id": "4854e2d1-1c40-4cf7-8cc2-2d5a2d2e5619"
      },
      "outputs": [],
      "source": [
        "xgb = XGBClassifier()"
      ]
    },
    {
      "cell_type": "code",
      "execution_count": null,
      "id": "0c9d63d6-a3b5-40a2-bda3-fd4687ff43fa",
      "metadata": {
        "id": "0c9d63d6-a3b5-40a2-bda3-fd4687ff43fa",
        "outputId": "01905b26-dff9-4a1d-ee9f-7798ac8c95b1"
      },
      "outputs": [
        {
          "data": {
            "text/html": [
              "<style>#sk-container-id-3 {color: black;background-color: white;}#sk-container-id-3 pre{padding: 0;}#sk-container-id-3 div.sk-toggleable {background-color: white;}#sk-container-id-3 label.sk-toggleable__label {cursor: pointer;display: block;width: 100%;margin-bottom: 0;padding: 0.3em;box-sizing: border-box;text-align: center;}#sk-container-id-3 label.sk-toggleable__label-arrow:before {content: \"▸\";float: left;margin-right: 0.25em;color: #696969;}#sk-container-id-3 label.sk-toggleable__label-arrow:hover:before {color: black;}#sk-container-id-3 div.sk-estimator:hover label.sk-toggleable__label-arrow:before {color: black;}#sk-container-id-3 div.sk-toggleable__content {max-height: 0;max-width: 0;overflow: hidden;text-align: left;background-color: #f0f8ff;}#sk-container-id-3 div.sk-toggleable__content pre {margin: 0.2em;color: black;border-radius: 0.25em;background-color: #f0f8ff;}#sk-container-id-3 input.sk-toggleable__control:checked~div.sk-toggleable__content {max-height: 200px;max-width: 100%;overflow: auto;}#sk-container-id-3 input.sk-toggleable__control:checked~label.sk-toggleable__label-arrow:before {content: \"▾\";}#sk-container-id-3 div.sk-estimator input.sk-toggleable__control:checked~label.sk-toggleable__label {background-color: #d4ebff;}#sk-container-id-3 div.sk-label input.sk-toggleable__control:checked~label.sk-toggleable__label {background-color: #d4ebff;}#sk-container-id-3 input.sk-hidden--visually {border: 0;clip: rect(1px 1px 1px 1px);clip: rect(1px, 1px, 1px, 1px);height: 1px;margin: -1px;overflow: hidden;padding: 0;position: absolute;width: 1px;}#sk-container-id-3 div.sk-estimator {font-family: monospace;background-color: #f0f8ff;border: 1px dotted black;border-radius: 0.25em;box-sizing: border-box;margin-bottom: 0.5em;}#sk-container-id-3 div.sk-estimator:hover {background-color: #d4ebff;}#sk-container-id-3 div.sk-parallel-item::after {content: \"\";width: 100%;border-bottom: 1px solid gray;flex-grow: 1;}#sk-container-id-3 div.sk-label:hover label.sk-toggleable__label {background-color: #d4ebff;}#sk-container-id-3 div.sk-serial::before {content: \"\";position: absolute;border-left: 1px solid gray;box-sizing: border-box;top: 0;bottom: 0;left: 50%;z-index: 0;}#sk-container-id-3 div.sk-serial {display: flex;flex-direction: column;align-items: center;background-color: white;padding-right: 0.2em;padding-left: 0.2em;position: relative;}#sk-container-id-3 div.sk-item {position: relative;z-index: 1;}#sk-container-id-3 div.sk-parallel {display: flex;align-items: stretch;justify-content: center;background-color: white;position: relative;}#sk-container-id-3 div.sk-item::before, #sk-container-id-3 div.sk-parallel-item::before {content: \"\";position: absolute;border-left: 1px solid gray;box-sizing: border-box;top: 0;bottom: 0;left: 50%;z-index: -1;}#sk-container-id-3 div.sk-parallel-item {display: flex;flex-direction: column;z-index: 1;position: relative;background-color: white;}#sk-container-id-3 div.sk-parallel-item:first-child::after {align-self: flex-end;width: 50%;}#sk-container-id-3 div.sk-parallel-item:last-child::after {align-self: flex-start;width: 50%;}#sk-container-id-3 div.sk-parallel-item:only-child::after {width: 0;}#sk-container-id-3 div.sk-dashed-wrapped {border: 1px dashed gray;margin: 0 0.4em 0.5em 0.4em;box-sizing: border-box;padding-bottom: 0.4em;background-color: white;}#sk-container-id-3 div.sk-label label {font-family: monospace;font-weight: bold;display: inline-block;line-height: 1.2em;}#sk-container-id-3 div.sk-label-container {text-align: center;}#sk-container-id-3 div.sk-container {/* jupyter's `normalize.less` sets `[hidden] { display: none; }` but bootstrap.min.css set `[hidden] { display: none !important; }` so we also need the `!important` here to be able to override the default hidden behavior on the sphinx rendered scikit-learn.org. See: https://github.com/scikit-learn/scikit-learn/issues/21755 */display: inline-block !important;position: relative;}#sk-container-id-3 div.sk-text-repr-fallback {display: none;}</style><div id=\"sk-container-id-3\" class=\"sk-top-container\"><div class=\"sk-text-repr-fallback\"><pre>XGBClassifier(base_score=0.5, booster=&#x27;gbtree&#x27;, callbacks=None,\n",
              "              colsample_bylevel=1, colsample_bynode=1, colsample_bytree=1,\n",
              "              early_stopping_rounds=None, enable_categorical=False,\n",
              "              eval_metric=None, gamma=0, gpu_id=-1, grow_policy=&#x27;depthwise&#x27;,\n",
              "              importance_type=None, interaction_constraints=&#x27;&#x27;,\n",
              "              learning_rate=0.300000012, max_bin=256, max_cat_to_onehot=4,\n",
              "              max_delta_step=0, max_depth=6, max_leaves=0, min_child_weight=1,\n",
              "              missing=nan, monotone_constraints=&#x27;()&#x27;, n_estimators=100,\n",
              "              n_jobs=0, num_parallel_tree=1, predictor=&#x27;auto&#x27;, random_state=0,\n",
              "              reg_alpha=0, reg_lambda=1, ...)</pre><b>In a Jupyter environment, please rerun this cell to show the HTML representation or trust the notebook. <br />On GitHub, the HTML representation is unable to render, please try loading this page with nbviewer.org.</b></div><div class=\"sk-container\" hidden><div class=\"sk-item\"><div class=\"sk-estimator sk-toggleable\"><input class=\"sk-toggleable__control sk-hidden--visually\" id=\"sk-estimator-id-3\" type=\"checkbox\" checked><label for=\"sk-estimator-id-3\" class=\"sk-toggleable__label sk-toggleable__label-arrow\">XGBClassifier</label><div class=\"sk-toggleable__content\"><pre>XGBClassifier(base_score=0.5, booster=&#x27;gbtree&#x27;, callbacks=None,\n",
              "              colsample_bylevel=1, colsample_bynode=1, colsample_bytree=1,\n",
              "              early_stopping_rounds=None, enable_categorical=False,\n",
              "              eval_metric=None, gamma=0, gpu_id=-1, grow_policy=&#x27;depthwise&#x27;,\n",
              "              importance_type=None, interaction_constraints=&#x27;&#x27;,\n",
              "              learning_rate=0.300000012, max_bin=256, max_cat_to_onehot=4,\n",
              "              max_delta_step=0, max_depth=6, max_leaves=0, min_child_weight=1,\n",
              "              missing=nan, monotone_constraints=&#x27;()&#x27;, n_estimators=100,\n",
              "              n_jobs=0, num_parallel_tree=1, predictor=&#x27;auto&#x27;, random_state=0,\n",
              "              reg_alpha=0, reg_lambda=1, ...)</pre></div></div></div></div></div>"
            ],
            "text/plain": [
              "XGBClassifier(base_score=0.5, booster='gbtree', callbacks=None,\n",
              "              colsample_bylevel=1, colsample_bynode=1, colsample_bytree=1,\n",
              "              early_stopping_rounds=None, enable_categorical=False,\n",
              "              eval_metric=None, gamma=0, gpu_id=-1, grow_policy='depthwise',\n",
              "              importance_type=None, interaction_constraints='',\n",
              "              learning_rate=0.300000012, max_bin=256, max_cat_to_onehot=4,\n",
              "              max_delta_step=0, max_depth=6, max_leaves=0, min_child_weight=1,\n",
              "              missing=nan, monotone_constraints='()', n_estimators=100,\n",
              "              n_jobs=0, num_parallel_tree=1, predictor='auto', random_state=0,\n",
              "              reg_alpha=0, reg_lambda=1, ...)"
            ]
          },
          "execution_count": 45,
          "metadata": {},
          "output_type": "execute_result"
        }
      ],
      "source": [
        "xgb.fit(X_train,y_train)"
      ]
    },
    {
      "cell_type": "code",
      "execution_count": null,
      "id": "a8f62883-6cdf-4422-baa8-8ad95e9149e3",
      "metadata": {
        "id": "a8f62883-6cdf-4422-baa8-8ad95e9149e3",
        "outputId": "e714e3ff-8d36-4c7a-ea07-acc632543d06"
      },
      "outputs": [
        {
          "data": {
            "text/plain": [
              "array([1, 1, 0, 0, 0, 1, 1, 1, 1, 1, 0, 1, 0, 0, 1, 1, 1, 1, 0, 0])"
            ]
          },
          "execution_count": 46,
          "metadata": {},
          "output_type": "execute_result"
        }
      ],
      "source": [
        "# Predict the Test set results\n",
        "xgb_pred = xgb.predict(X_test)\n",
        "xgb_pred[:20]"
      ]
    },
    {
      "cell_type": "code",
      "execution_count": null,
      "id": "b38d1ae8-3b8f-4168-802b-ba4f7583c4d9",
      "metadata": {
        "id": "b38d1ae8-3b8f-4168-802b-ba4f7583c4d9",
        "outputId": "2a0598fd-42fe-460d-acb4-36d8a3f05ce3"
      },
      "outputs": [
        {
          "name": "stdout",
          "output_type": "stream",
          "text": [
            "Accuracy : \n",
            " 86.53846153846155\n"
          ]
        }
      ],
      "source": [
        "print('Accuracy : \\n', accuracy_score(y_test, xgb_pred)*100)"
      ]
    },
    {
      "cell_type": "code",
      "execution_count": null,
      "id": "0c5322a7-bf19-4dff-baab-3fe3a9ed4892",
      "metadata": {
        "id": "0c5322a7-bf19-4dff-baab-3fe3a9ed4892",
        "outputId": "7d130e4f-8cac-4619-e3c0-dcaf91612d49"
      },
      "outputs": [
        {
          "name": "stdout",
          "output_type": "stream",
          "text": [
            "              precision    recall  f1-score   support\n",
            "\n",
            "           0       0.88      0.85      0.87        54\n",
            "           1       0.85      0.88      0.86        50\n",
            "\n",
            "    accuracy                           0.87       104\n",
            "   macro avg       0.87      0.87      0.87       104\n",
            "weighted avg       0.87      0.87      0.87       104\n",
            "\n"
          ]
        }
      ],
      "source": [
        "# Classification report\n",
        "print(classification_report(y_test,xgb_pred))"
      ]
    },
    {
      "cell_type": "markdown",
      "id": "abc8e2d9-10f5-4e22-8398-5165254cabd0",
      "metadata": {
        "id": "abc8e2d9-10f5-4e22-8398-5165254cabd0"
      },
      "source": [
        "# Hyperparameter Optimization"
      ]
    },
    {
      "cell_type": "code",
      "execution_count": null,
      "id": "c7863d8f-9a47-49a6-81cb-5689cce9f8d1",
      "metadata": {
        "id": "c7863d8f-9a47-49a6-81cb-5689cce9f8d1"
      },
      "outputs": [],
      "source": [
        "# Set the parameter matrix for Random forest\n",
        "random_grid = {'n_estimators': [10],\n",
        "              'max_features': ['auto'],\n",
        "              'max_depth': range(10,20,2),\n",
        "              'min_samples_leaf':[2],\n",
        "              'bootstrap': ['True']}\n",
        "grid_rnf = GridSearchCV(estimator=RandomForestClassifier(), param_grid=random_grid, n_jobs = 16, cv= 5)"
      ]
    },
    {
      "cell_type": "code",
      "execution_count": null,
      "id": "b1e8f98d-80b0-4b29-b648-e5fe46b09b0b",
      "metadata": {
        "id": "b1e8f98d-80b0-4b29-b648-e5fe46b09b0b",
        "outputId": "25f8e3b0-181e-4473-f320-7080fc7d9a45"
      },
      "outputs": [
        {
          "name": "stdout",
          "output_type": "stream",
          "text": [
            "CPU times: total: 0 ns\n",
            "Wall time: 0 ns\n"
          ]
        },
        {
          "name": "stderr",
          "output_type": "stream",
          "text": [
            "C:\\DBDA\\desktop\\Python\\python\\lib\\site-packages\\sklearn\\ensemble\\_forest.py:427: FutureWarning: `max_features='auto'` has been deprecated in 1.1 and will be removed in 1.3. To keep the past behaviour, explicitly set `max_features='sqrt'` or remove this parameter as it is also the default value for RandomForestClassifiers and ExtraTreesClassifiers.\n",
            "  warn(\n"
          ]
        },
        {
          "data": {
            "text/html": [
              "<style>#sk-container-id-4 {color: black;background-color: white;}#sk-container-id-4 pre{padding: 0;}#sk-container-id-4 div.sk-toggleable {background-color: white;}#sk-container-id-4 label.sk-toggleable__label {cursor: pointer;display: block;width: 100%;margin-bottom: 0;padding: 0.3em;box-sizing: border-box;text-align: center;}#sk-container-id-4 label.sk-toggleable__label-arrow:before {content: \"▸\";float: left;margin-right: 0.25em;color: #696969;}#sk-container-id-4 label.sk-toggleable__label-arrow:hover:before {color: black;}#sk-container-id-4 div.sk-estimator:hover label.sk-toggleable__label-arrow:before {color: black;}#sk-container-id-4 div.sk-toggleable__content {max-height: 0;max-width: 0;overflow: hidden;text-align: left;background-color: #f0f8ff;}#sk-container-id-4 div.sk-toggleable__content pre {margin: 0.2em;color: black;border-radius: 0.25em;background-color: #f0f8ff;}#sk-container-id-4 input.sk-toggleable__control:checked~div.sk-toggleable__content {max-height: 200px;max-width: 100%;overflow: auto;}#sk-container-id-4 input.sk-toggleable__control:checked~label.sk-toggleable__label-arrow:before {content: \"▾\";}#sk-container-id-4 div.sk-estimator input.sk-toggleable__control:checked~label.sk-toggleable__label {background-color: #d4ebff;}#sk-container-id-4 div.sk-label input.sk-toggleable__control:checked~label.sk-toggleable__label {background-color: #d4ebff;}#sk-container-id-4 input.sk-hidden--visually {border: 0;clip: rect(1px 1px 1px 1px);clip: rect(1px, 1px, 1px, 1px);height: 1px;margin: -1px;overflow: hidden;padding: 0;position: absolute;width: 1px;}#sk-container-id-4 div.sk-estimator {font-family: monospace;background-color: #f0f8ff;border: 1px dotted black;border-radius: 0.25em;box-sizing: border-box;margin-bottom: 0.5em;}#sk-container-id-4 div.sk-estimator:hover {background-color: #d4ebff;}#sk-container-id-4 div.sk-parallel-item::after {content: \"\";width: 100%;border-bottom: 1px solid gray;flex-grow: 1;}#sk-container-id-4 div.sk-label:hover label.sk-toggleable__label {background-color: #d4ebff;}#sk-container-id-4 div.sk-serial::before {content: \"\";position: absolute;border-left: 1px solid gray;box-sizing: border-box;top: 0;bottom: 0;left: 50%;z-index: 0;}#sk-container-id-4 div.sk-serial {display: flex;flex-direction: column;align-items: center;background-color: white;padding-right: 0.2em;padding-left: 0.2em;position: relative;}#sk-container-id-4 div.sk-item {position: relative;z-index: 1;}#sk-container-id-4 div.sk-parallel {display: flex;align-items: stretch;justify-content: center;background-color: white;position: relative;}#sk-container-id-4 div.sk-item::before, #sk-container-id-4 div.sk-parallel-item::before {content: \"\";position: absolute;border-left: 1px solid gray;box-sizing: border-box;top: 0;bottom: 0;left: 50%;z-index: -1;}#sk-container-id-4 div.sk-parallel-item {display: flex;flex-direction: column;z-index: 1;position: relative;background-color: white;}#sk-container-id-4 div.sk-parallel-item:first-child::after {align-self: flex-end;width: 50%;}#sk-container-id-4 div.sk-parallel-item:last-child::after {align-self: flex-start;width: 50%;}#sk-container-id-4 div.sk-parallel-item:only-child::after {width: 0;}#sk-container-id-4 div.sk-dashed-wrapped {border: 1px dashed gray;margin: 0 0.4em 0.5em 0.4em;box-sizing: border-box;padding-bottom: 0.4em;background-color: white;}#sk-container-id-4 div.sk-label label {font-family: monospace;font-weight: bold;display: inline-block;line-height: 1.2em;}#sk-container-id-4 div.sk-label-container {text-align: center;}#sk-container-id-4 div.sk-container {/* jupyter's `normalize.less` sets `[hidden] { display: none; }` but bootstrap.min.css set `[hidden] { display: none !important; }` so we also need the `!important` here to be able to override the default hidden behavior on the sphinx rendered scikit-learn.org. See: https://github.com/scikit-learn/scikit-learn/issues/21755 */display: inline-block !important;position: relative;}#sk-container-id-4 div.sk-text-repr-fallback {display: none;}</style><div id=\"sk-container-id-4\" class=\"sk-top-container\"><div class=\"sk-text-repr-fallback\"><pre>GridSearchCV(cv=5, estimator=RandomForestClassifier(), n_jobs=16,\n",
              "             param_grid={&#x27;bootstrap&#x27;: [&#x27;True&#x27;], &#x27;max_depth&#x27;: range(10, 20, 2),\n",
              "                         &#x27;max_features&#x27;: [&#x27;auto&#x27;], &#x27;min_samples_leaf&#x27;: [2],\n",
              "                         &#x27;n_estimators&#x27;: [10]})</pre><b>In a Jupyter environment, please rerun this cell to show the HTML representation or trust the notebook. <br />On GitHub, the HTML representation is unable to render, please try loading this page with nbviewer.org.</b></div><div class=\"sk-container\" hidden><div class=\"sk-item sk-dashed-wrapped\"><div class=\"sk-label-container\"><div class=\"sk-label sk-toggleable\"><input class=\"sk-toggleable__control sk-hidden--visually\" id=\"sk-estimator-id-4\" type=\"checkbox\" ><label for=\"sk-estimator-id-4\" class=\"sk-toggleable__label sk-toggleable__label-arrow\">GridSearchCV</label><div class=\"sk-toggleable__content\"><pre>GridSearchCV(cv=5, estimator=RandomForestClassifier(), n_jobs=16,\n",
              "             param_grid={&#x27;bootstrap&#x27;: [&#x27;True&#x27;], &#x27;max_depth&#x27;: range(10, 20, 2),\n",
              "                         &#x27;max_features&#x27;: [&#x27;auto&#x27;], &#x27;min_samples_leaf&#x27;: [2],\n",
              "                         &#x27;n_estimators&#x27;: [10]})</pre></div></div></div><div class=\"sk-parallel\"><div class=\"sk-parallel-item\"><div class=\"sk-item\"><div class=\"sk-label-container\"><div class=\"sk-label sk-toggleable\"><input class=\"sk-toggleable__control sk-hidden--visually\" id=\"sk-estimator-id-5\" type=\"checkbox\" ><label for=\"sk-estimator-id-5\" class=\"sk-toggleable__label sk-toggleable__label-arrow\">estimator: RandomForestClassifier</label><div class=\"sk-toggleable__content\"><pre>RandomForestClassifier()</pre></div></div></div><div class=\"sk-serial\"><div class=\"sk-item\"><div class=\"sk-estimator sk-toggleable\"><input class=\"sk-toggleable__control sk-hidden--visually\" id=\"sk-estimator-id-6\" type=\"checkbox\" ><label for=\"sk-estimator-id-6\" class=\"sk-toggleable__label sk-toggleable__label-arrow\">RandomForestClassifier</label><div class=\"sk-toggleable__content\"><pre>RandomForestClassifier()</pre></div></div></div></div></div></div></div></div></div></div>"
            ],
            "text/plain": [
              "GridSearchCV(cv=5, estimator=RandomForestClassifier(), n_jobs=16,\n",
              "             param_grid={'bootstrap': ['True'], 'max_depth': range(10, 20, 2),\n",
              "                         'max_features': ['auto'], 'min_samples_leaf': [2],\n",
              "                         'n_estimators': [10]})"
            ]
          },
          "execution_count": 50,
          "metadata": {},
          "output_type": "execute_result"
        }
      ],
      "source": [
        "%time\n",
        "grid_rnf.fit(X_train, y_train)"
      ]
    },
    {
      "cell_type": "code",
      "execution_count": null,
      "id": "95c8ea46-e8bf-4761-9e8d-d59aae35d232",
      "metadata": {
        "id": "95c8ea46-e8bf-4761-9e8d-d59aae35d232",
        "outputId": "44fa482e-79de-4511-e93e-3c672ba2b908"
      },
      "outputs": [
        {
          "data": {
            "text/plain": [
              "{'bootstrap': 'True',\n",
              " 'max_depth': 14,\n",
              " 'max_features': 'auto',\n",
              " 'min_samples_leaf': 2,\n",
              " 'n_estimators': 10}"
            ]
          },
          "execution_count": 51,
          "metadata": {},
          "output_type": "execute_result"
        }
      ],
      "source": [
        "grid_rnf.best_params_"
      ]
    },
    {
      "cell_type": "code",
      "execution_count": null,
      "id": "3fcb4228-06f9-40a0-baa5-3024e22b99d3",
      "metadata": {
        "id": "3fcb4228-06f9-40a0-baa5-3024e22b99d3"
      },
      "outputs": [],
      "source": [
        "rnd_first = grid_rnf.best_estimator_"
      ]
    },
    {
      "cell_type": "code",
      "execution_count": null,
      "id": "aba4f5b9-2f2e-4a89-afa0-c8cd8c85e981",
      "metadata": {
        "id": "aba4f5b9-2f2e-4a89-afa0-c8cd8c85e981",
        "outputId": "e63ca408-6487-49ce-8d6b-3fc2e80b13bf"
      },
      "outputs": [
        {
          "data": {
            "text/html": [
              "<table>\n",
              "<thead>\n",
              "<tr><th>Algorithm             </th><th style=\"text-align: right;\">  False Positives</th><th style=\"text-align: right;\">  False Negatives</th><th style=\"text-align: right;\">  Precision</th><th style=\"text-align: right;\">  Recall</th><th style=\"text-align: right;\">  F1 Score</th></tr>\n",
              "</thead>\n",
              "<tbody>\n",
              "<tr><td>RandomForestClassifier</td><td style=\"text-align: right;\">                8</td><td style=\"text-align: right;\">                4</td><td style=\"text-align: right;\">       0.85</td><td style=\"text-align: right;\">    0.92</td><td style=\"text-align: right;\">      0.88</td></tr>\n",
              "</tbody>\n",
              "</table>"
            ],
            "text/plain": [
              "<IPython.core.display.HTML object>"
            ]
          },
          "metadata": {},
          "output_type": "display_data"
        }
      ],
      "source": [
        "rnd_first_hpo = predict_and_evaluate(rnd_first, X_test, y_test)"
      ]
    },
    {
      "cell_type": "code",
      "execution_count": null,
      "id": "519116b9-0bd6-400d-a121-bbed341f64b1",
      "metadata": {
        "id": "519116b9-0bd6-400d-a121-bbed341f64b1"
      },
      "outputs": [],
      "source": [
        "import pickle"
      ]
    },
    {
      "cell_type": "code",
      "execution_count": null,
      "id": "fa68fc65-5f7e-4f1a-ae87-2f5879756515",
      "metadata": {
        "id": "fa68fc65-5f7e-4f1a-ae87-2f5879756515"
      },
      "outputs": [],
      "source": [
        "#12\t1489\t0\t10\t4\t1205\t   5\t306\t6\t8\t6\t696  12\t1489\t0\t10\t4\t1205\t1"
      ]
    },
    {
      "cell_type": "code",
      "execution_count": null,
      "id": "6a8d3676-88db-4d47-ac20-0978f91fcbc8",
      "metadata": {
        "id": "6a8d3676-88db-4d47-ac20-0978f91fcbc8"
      },
      "outputs": [],
      "source": [
        "#print(model.predict([[5,306,6,8,6,696]]))"
      ]
    },
    {
      "cell_type": "code",
      "execution_count": null,
      "id": "60417440-d765-424b-952f-c969727b2261",
      "metadata": {
        "id": "60417440-d765-424b-952f-c969727b2261"
      },
      "outputs": [],
      "source": [
        "#Saving the model\n",
        "pickle.dump(grid_rnf, open('model1.pkl' , 'wb'))"
      ]
    },
    {
      "cell_type": "code",
      "execution_count": null,
      "id": "c8f9644c-c33b-4a96-8c82-75e57fd93b61",
      "metadata": {
        "id": "c8f9644c-c33b-4a96-8c82-75e57fd93b61"
      },
      "outputs": [],
      "source": [
        "#loading the model\n",
        "\n",
        "model1 = pickle.load(open('model1.pkl','rb'))"
      ]
    },
    {
      "cell_type": "code",
      "execution_count": null,
      "id": "86627e5a-eabc-45f3-8914-75dccec97390",
      "metadata": {
        "id": "86627e5a-eabc-45f3-8914-75dccec97390",
        "outputId": "70c53b14-cf5c-4e10-dde8-084fd3e92f52"
      },
      "outputs": [
        {
          "name": "stdout",
          "output_type": "stream",
          "text": [
            "[0]\n"
          ]
        },
        {
          "name": "stderr",
          "output_type": "stream",
          "text": [
            "C:\\DBDA\\desktop\\Python\\python\\lib\\site-packages\\sklearn\\base.py:450: UserWarning: X does not have valid feature names, but RandomForestClassifier was fitted with feature names\n",
            "  warnings.warn(\n"
          ]
        }
      ],
      "source": [
        "print(model1.predict([[5,306,6,8,6,696]]))"
      ]
    },
    {
      "cell_type": "markdown",
      "id": "4c676f84-e056-4bce-bd31-167227b616b9",
      "metadata": {
        "id": "4c676f84-e056-4bce-bd31-167227b616b9"
      },
      "source": [
        "It shows Predction as **\"Safe Domain\"**"
      ]
    },
    {
      "cell_type": "code",
      "execution_count": null,
      "id": "d8886784-5763-472c-bcc5-6417d8fc0139",
      "metadata": {
        "id": "d8886784-5763-472c-bcc5-6417d8fc0139"
      },
      "outputs": [],
      "source": [
        "#12\t1489\t0\t10\t4\t1205\t1"
      ]
    },
    {
      "cell_type": "code",
      "execution_count": null,
      "id": "e3aa1940-7ed5-4975-8afa-316bb292464b",
      "metadata": {
        "id": "e3aa1940-7ed5-4975-8afa-316bb292464b",
        "outputId": "66af8fa5-045b-4880-8a43-cdd3fbf62a53"
      },
      "outputs": [
        {
          "name": "stdout",
          "output_type": "stream",
          "text": [
            "[1]\n"
          ]
        },
        {
          "name": "stderr",
          "output_type": "stream",
          "text": [
            "C:\\DBDA\\desktop\\Python\\python\\lib\\site-packages\\sklearn\\base.py:450: UserWarning: X does not have valid feature names, but RandomForestClassifier was fitted with feature names\n",
            "  warnings.warn(\n"
          ]
        }
      ],
      "source": [
        "print(model1.predict([[12,1489,0,10,4,1205]]))"
      ]
    },
    {
      "cell_type": "markdown",
      "id": "67b919e1-3196-4a55-8af1-270b32c529a8",
      "metadata": {
        "id": "67b919e1-3196-4a55-8af1-270b32c529a8"
      },
      "source": [
        "It shows Predction as **\"Malicious domain\"**"
      ]
    },
    {
      "cell_type": "code",
      "execution_count": null,
      "id": "64592584-17c7-4702-b145-3eb4785114c9",
      "metadata": {
        "id": "64592584-17c7-4702-b145-3eb4785114c9"
      },
      "outputs": [],
      "source": []
    },
    {
      "cell_type": "code",
      "source": [
        "from creme import compose\n",
        "from creme import datasets\n",
        "from creme import linear_model\n",
        "from creme import metrics\n",
        "from creme import preprocessing\n",
        "\n",
        "X_y = datasets.Phishing()\n",
        "\n",
        "model = compose.Pipeline(\n",
        "   preprocessing.StandardScaler(),\n",
        " linear_model.LogisticRegression()\n",
        ")\n",
        "metric = metrics.Accuracy()\n",
        "\n",
        "\n",
        "for x, y in X_y:\n",
        "    y_pred = model.predict_one(x)      # make a prediction\n",
        "    metric = metric.update(y, y_pred)  # update the metric\n",
        "    model = model.fit_one(x, y)        # make the model learn\n",
        "\n",
        "metric"
      ],
      "metadata": {
        "colab": {
          "base_uri": "https://localhost:8080/"
        },
        "id": "6s0sRJYwRRmH",
        "outputId": "9bb1bc70-9ef8-4ad6-f8ad-6e4fefda469e"
      },
      "id": "6s0sRJYwRRmH",
      "execution_count": 9,
      "outputs": [
        {
          "output_type": "execute_result",
          "data": {
            "text/plain": [
              "Accuracy: 89.20%"
            ]
          },
          "metadata": {},
          "execution_count": 9
        }
      ]
    },
    {
      "cell_type": "code",
      "source": [
        "colors = [\"#0101DF\", \"#DF0101\"]\n",
        "\n",
        "sns.countplot('Type', data=df, palette=colors)\n",
        "plt.title('Distrubution \\n (0:safe domain || 1: metric)', fontsize=14)"
      ],
      "metadata": {
        "id": "u-gepTEpRZMe"
      },
      "id": "u-gepTEpRZMe",
      "execution_count": 5,
      "outputs": []
    },
    {
      "cell_type": "code",
      "source": [],
      "metadata": {
        "id": "vNZVs9NtRaUv"
      },
      "id": "vNZVs9NtRaUv",
      "execution_count": 6,
      "outputs": []
    },
    {
      "cell_type": "code",
      "source": [],
      "metadata": {
        "id": "ooi4ExaMRzo-"
      },
      "id": "ooi4ExaMRzo-",
      "execution_count": 8,
      "outputs": []
    },
    {
      "cell_type": "code",
      "source": [],
      "metadata": {
        "id": "TzLD9cRXj7iu"
      },
      "id": "TzLD9cRXj7iu",
      "execution_count": null,
      "outputs": []
    }
  ],
  "metadata": {
    "kernelspec": {
      "display_name": "Python 3 (ipykernel)",
      "language": "python",
      "name": "python3"
    },
    "language_info": {
      "codemirror_mode": {
        "name": "ipython",
        "version": 3
      },
      "file_extension": ".py",
      "mimetype": "text/x-python",
      "name": "python",
      "nbconvert_exporter": "python",
      "pygments_lexer": "ipython3",
      "version": "3.10.7"
    },
    "colab": {
      "provenance": [],
      "collapsed_sections": [
        "874a09b9-164e-4019-8807-da28bf939386",
        "0487b70d-0deb-4e70-a7bd-0b8616b52526",
        "11b39c2d-982c-4b62-a094-e3c3cdfa195f",
        "77eed139-784d-48ec-8a17-aeff42ce04ca",
        "5855d23e-1503-4cba-87e9-cd94309e85ff"
      ]
    }
  },
  "nbformat": 4,
  "nbformat_minor": 5
}